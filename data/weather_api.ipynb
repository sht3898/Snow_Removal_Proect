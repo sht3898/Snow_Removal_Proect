{
 "cells": [
  {
   "cell_type": "code",
   "execution_count": 1,
   "metadata": {},
   "outputs": [],
   "source": [
    "import urllib\n",
    "import re"
   ]
  },
  {
   "cell_type": "code",
   "execution_count": 7,
   "metadata": {},
   "outputs": [],
   "source": [
    "# 특정년도, 월에 대한 날씨 정보 조회\n",
    "def getWeather(year, mm, stn = \"108\"):\n",
    "    obs = 1\n",
    "    x = 24\n",
    "    y = 9\n",
    "\n",
    "    # 기상청 조회 url 설정 (python3.5)\n",
    "    url = \"http://www.kma.go.kr/weather/observation/past_cal.jsp?stn=\" + stn + \"&yy=\" + year + \"&mm=\" + mm + \"&obs=1&x=24&y=9\"\n",
    "\n",
    "    # 읽기 버퍼 설정\n",
    "    lines = []\n",
    "\n",
    "    # 자료 읽기\n",
    "    f = urllib.request.urlopen(url)\n",
    "    r = f.read()\n",
    "    f.close()\n",
    "\n",
    "    # 한글로 디코딩함\n",
    "    r2 = r.decode('euc-kr', 'ignore')\n",
    "\n",
    "    # 엔터키 값으로 라인을 구분함\n",
    "    lines = r2.split('\\n')\n",
    "\n",
    "    # <td class=\"align_left\">평균기온:2.2℃<br />최고기온:3.7℃<br />최저기온:-0.3℃<br />평균운량:9.6<br />일강수량:0.0mm<br /></td>\n",
    "    regex = '.*<td class=\"align_left\">평균기온:(.*?)<br \\/>최고기온:(.*?)<br \\/>최저기온:(.*?)<br \\/>평균운량:(.*?)<br \\/>일강수량:(.*?)<br \\/><\\/td>'\n",
    "\n",
    "    dict_month = {}   # {1 => {평균기온: xx, 최고기온: yy, 최저기온: zz, 평균운량: kk, 일강수량: ll}, 2 => ...}\n",
    "    day = 1\n",
    "    for l in lines:\n",
    "        if not '평균기온' in l: continue\n",
    "\n",
    "        # 불필요한 문자는 제거함\n",
    "        l = l.replace(\"℃\", \"\")\n",
    "\n",
    "        # 정규식 검사를 한다.\n",
    "        l_reg = re.match(regex, l)\n",
    "        if not l_reg: continue\n",
    "\n",
    "        # 일자별 딕셔너리 객체 초기화\n",
    "        dict_day = {'avg':0, 'high':0, 'low':0, 'cloud':0, 'rain':0}\n",
    "        #[print(a) for a in l_reg.groups()]\n",
    "\n",
    "        data_avg = l_reg.groups()[0]     # 평균기온\n",
    "        data_high = l_reg.groups()[1]    # 최고기온\n",
    "        data_low = l_reg.groups()[2]     # 최저기온\n",
    "        data_cloud = l_reg.groups()[3]   # 평균운량\n",
    "        data_rain = l_reg.groups()[4]    # 일강수량\n",
    "\n",
    "        dict_day['avg'] = data_avg     # 평균기온\n",
    "        dict_day['high'] = data_high    # 최고기온\n",
    "        dict_day['low'] = data_low     # 최저기온\n",
    "        dict_day['cloud'] = data_cloud   # 평균운량\n",
    "        dict_day['rain'] = data_rain.replace(\"-\", \"0\").replace(\"mm\", \"\")    # 일강수량\n",
    "\n",
    "        dict_month[day] = dict_day\n",
    "        day = day + 1\n",
    "\n",
    "    return (dict_month)"
   ]
  },
  {
   "cell_type": "code",
   "execution_count": 8,
   "metadata": {},
   "outputs": [],
   "source": [
    "# 조회년도, 월, 지역코드 설정\n",
    "year = \"2013\"\n",
    "mm = \"2\"\n",
    "stn = \"108\"\n",
    "\n",
    "# 2013년도 1월달 기온 정보를 조회한다.\n",
    "dict_month = getWeather(year, mm, stn)"
   ]
  },
  {
   "cell_type": "code",
   "execution_count": 9,
   "metadata": {},
   "outputs": [],
   "source": [
    "# 기온정보 출력: 일자, 평균기온, 최고기온, 최저기온, 평균운량, 일강수량\n",
    "for (day, dict_day) in dict_month.items():\n",
    "    print (\"{0}{1}{2}, {3}, {3}, {4}, {5}, {6} \".format(year, mm.zfill(2), str(day).zfill(2), dict_day['avg'], dict_day['high']\n",
    "        , dict_day['low'], dict_day['cloud'], dict_day['rain']))"
   ]
  },
  {
   "cell_type": "code",
   "execution_count": 10,
   "metadata": {},
   "outputs": [
    {
     "data": {
      "text/plain": [
       "{}"
      ]
     },
     "execution_count": 10,
     "metadata": {},
     "output_type": "execute_result"
    }
   ],
   "source": [
    "dict_month"
   ]
  },
  {
   "cell_type": "code",
   "execution_count": null,
   "metadata": {},
   "outputs": [],
   "source": []
  }
 ],
 "metadata": {
  "kernelspec": {
   "display_name": "Python 3",
   "language": "python",
   "name": "python3"
  },
  "language_info": {
   "codemirror_mode": {
    "name": "ipython",
    "version": 3
   },
   "file_extension": ".py",
   "mimetype": "text/x-python",
   "name": "python",
   "nbconvert_exporter": "python",
   "pygments_lexer": "ipython3",
   "version": "3.8.3"
  }
 },
 "nbformat": 4,
 "nbformat_minor": 4
}
